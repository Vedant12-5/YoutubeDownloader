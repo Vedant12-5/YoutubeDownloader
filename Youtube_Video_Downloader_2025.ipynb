{
  "nbformat": 4,
  "nbformat_minor": 0,
  "metadata": {
    "colab": {
      "provenance": [],
      "authorship_tag": "ABX9TyP4QD5kTXB0g10P7YwdMWlR",
      "include_colab_link": true
    },
    "kernelspec": {
      "name": "python3",
      "display_name": "Python 3"
    },
    "language_info": {
      "name": "python"
    }
  },
  "cells": [
    {
      "cell_type": "markdown",
      "metadata": {
        "id": "view-in-github",
        "colab_type": "text"
      },
      "source": [
        "<a href=\"https://colab.research.google.com/github/Vedant12-5/YoutubeDownloader/blob/main/Youtube_Video_Downloader_2025.ipynb\" target=\"_parent\"><img src=\"https://colab.research.google.com/assets/colab-badge.svg\" alt=\"Open In Colab\"/></a>"
      ]
    },
    {
      "cell_type": "code",
      "source": [
        "!pip install yt-dlp"
      ],
      "metadata": {
        "colab": {
          "base_uri": "https://localhost:8080/"
        },
        "id": "DQcMQTj4WBAr",
        "outputId": "2f16d4ac-6e8c-4be4-f655-0310a72d597a"
      },
      "execution_count": 28,
      "outputs": [
        {
          "output_type": "stream",
          "name": "stdout",
          "text": [
            "Collecting yt-dlp\n",
            "  Downloading yt_dlp-2025.3.26-py3-none-any.whl.metadata (172 kB)\n",
            "\u001b[2K     \u001b[90m━━━━━━━━━━━━━━━━━━━━━━━━━━━━━━━━━━━━━━━━\u001b[0m \u001b[32m172.1/172.1 kB\u001b[0m \u001b[31m3.2 MB/s\u001b[0m eta \u001b[36m0:00:00\u001b[0m\n",
            "\u001b[?25hDownloading yt_dlp-2025.3.26-py3-none-any.whl (3.2 MB)\n",
            "\u001b[2K   \u001b[90m━━━━━━━━━━━━━━━━━━━━━━━━━━━━━━━━━━━━━━━━\u001b[0m \u001b[32m3.2/3.2 MB\u001b[0m \u001b[31m32.9 MB/s\u001b[0m eta \u001b[36m0:00:00\u001b[0m\n",
            "\u001b[?25hInstalling collected packages: yt-dlp\n",
            "Successfully installed yt-dlp-2025.3.26\n"
          ]
        }
      ]
    },
    {
      "cell_type": "code",
      "source": [
        "import yt_dlp\n",
        "\n",
        "def download_youtube_video(url, output_path='.'):\n",
        "    \"\"\"\n",
        "    Download a YouTube video given its URL in MP4 format using yt-dlp.\n",
        "\n",
        "    Parameters:\n",
        "    url (str): The URL of the YouTube video.\n",
        "    output_path (str): The directory where the video will be saved. Default is the current directory.\n",
        "\n",
        "    Returns:\n",
        "    str: The path to the downloaded video file.\n",
        "    \"\"\"\n",
        "    try:\n",
        "        # Set up yt-dlp options\n",
        "        ydl_opts = {\n",
        "            'outtmpl': f'{output_path}/%(title)s.mp4',\n",
        "            'format': 'bestvideo[ext=mp4]+bestaudio[ext=m4a]/best[ext=mp4]/best',\n",
        "            'postprocessors': [{\n",
        "                'key': 'FFmpegVideoConvertor',\n",
        "                'preferedformat': 'mp4',  # Convert to mp4 if necessary\n",
        "            }],\n",
        "            'verbose': True,\n",
        "        }\n",
        "\n",
        "        # Create a yt-dlp object with the options\n",
        "        with yt_dlp.YoutubeDL(ydl_opts) as ydl:\n",
        "            # Download the video\n",
        "            info_dict = ydl.extract_info(url, download=True)\n",
        "            video_title = info_dict.get('title', 'unknown_video')\n",
        "            video_path = f\"{output_path}/{video_title}.mp4\"\n",
        "\n",
        "            print(f\"Download completed! Saved at: {video_path}\")\n",
        "            return video_path\n",
        "\n",
        "    except Exception as e:\n",
        "        print(f\"An error occurred: {e}\")\n",
        "        return None\n"
      ],
      "metadata": {
        "id": "qiD8vtI8WFBz"
      },
      "execution_count": 34,
      "outputs": []
    },
    {
      "cell_type": "code",
      "source": [
        "youtube_url = \"https://www.youtube.com/watch?v=cK0ApVxMvAM\"\n",
        "download_youtube_video(youtube_url)"
      ],
      "metadata": {
        "colab": {
          "base_uri": "https://localhost:8080/",
          "height": 717
        },
        "id": "MOiQNYp8WHXG",
        "outputId": "f464bdd4-f1f8-4fa6-a264-401b8f9a7664"
      },
      "execution_count": 35,
      "outputs": [
        {
          "output_type": "stream",
          "name": "stderr",
          "text": [
            "[debug] Encodings: locale UTF-8, fs utf-8, pref UTF-8, out UTF-8 (No ANSI), error UTF-8 (No ANSI), screen UTF-8 (No ANSI)\n",
            "[debug] yt-dlp version stable@2025.03.26 from yt-dlp/yt-dlp [ecee97b4f] (pip) API\n",
            "[debug] params: {'outtmpl': './%(title)s.mp4', 'format': 'bestvideo[ext=mp4]+bestaudio[ext=m4a]/best[ext=mp4]/best', 'postprocessors': [{'key': 'FFmpegVideoConvertor', 'preferedformat': 'mp4'}], 'verbose': True, 'compat_opts': set(), 'http_headers': {'User-Agent': 'Mozilla/5.0 (Windows NT 10.0; Win64; x64) AppleWebKit/537.36 (KHTML, like Gecko) Chrome/90.0.4430.24 Safari/537.36', 'Accept': 'text/html,application/xhtml+xml,application/xml;q=0.9,*/*;q=0.8', 'Accept-Language': 'en-us,en;q=0.5', 'Sec-Fetch-Mode': 'navigate'}}\n",
            "[debug] Python 3.11.11 (CPython x86_64 64bit) - Linux-6.1.85+-x86_64-with-glibc2.35 (OpenSSL 3.0.2 15 Mar 2022, glibc 2.35)\n",
            "[debug] exe versions: ffmpeg 4.4.2 (setts), ffprobe 4.4.2\n",
            "[debug] Optional libraries: certifi-2025.01.31, requests-2.32.3, secretstorage-3.3.1, sqlite3-3.37.2, urllib3-2.3.0, websockets-15.0.1\n",
            "[debug] Proxy map: {'colab_language_server': '/usr/colab/bin/language_service'}\n",
            "[debug] Request Handlers: urllib, requests, websockets\n",
            "[debug] Plugin directories: none\n",
            "[debug] Loaded 1849 extractors\n"
          ]
        },
        {
          "output_type": "stream",
          "name": "stdout",
          "text": [
            "[youtube] Extracting URL: https://www.youtube.com/watch?v=cK0ApVxMvAM\n",
            "[youtube] cK0ApVxMvAM: Downloading webpage\n",
            "[youtube] cK0ApVxMvAM: Downloading tv client config\n",
            "[youtube] cK0ApVxMvAM: Downloading player 8a8ac953\n",
            "[youtube] cK0ApVxMvAM: Downloading tv player API JSON\n",
            "[youtube] cK0ApVxMvAM: Downloading ios player API JSON\n"
          ]
        },
        {
          "output_type": "stream",
          "name": "stderr",
          "text": [
            "[debug] Loading youtube-nsig.8a8ac953 from cache\n",
            "[debug] [youtube] Decrypted nsig HiVp3LMzcwxRKFe3DFK => KyCsoBCf9yKHog\n",
            "[debug] [youtube] Decrypted nsig GOi-FcPiNqCFD8kt6VO => gu8Qsui-U5S1IA\n",
            "[debug] [youtube] cK0ApVxMvAM: ios client https formats require a GVS PO Token which was not provided. They will be skipped as they may yield HTTP Error 403. You can manually pass a GVS PO Token for this client with --extractor-args \"youtube:po_token=ios.gvs+XXX\". For more information, refer to  https://github.com/yt-dlp/yt-dlp/wiki/PO-Token-Guide . To enable these broken formats anyway, pass --extractor-args \"youtube:formats=missing_pot\"\n"
          ]
        },
        {
          "output_type": "stream",
          "name": "stdout",
          "text": [
            "[youtube] cK0ApVxMvAM: Downloading m3u8 information\n"
          ]
        },
        {
          "output_type": "stream",
          "name": "stderr",
          "text": [
            "[debug] Sort order given by extractor: quality, res, fps, hdr:12, source, vcodec, channels, acodec, lang, proto\n",
            "[debug] Formats sorted by: hasvid, ie_pref, quality, res, fps, hdr:12(7), source, vcodec, channels, acodec, lang, proto, size, br, asr, vext, aext, hasaud, id\n"
          ]
        },
        {
          "output_type": "stream",
          "name": "stdout",
          "text": [
            "[info] cK0ApVxMvAM: Downloading 1 format(s): 137+140\n"
          ]
        },
        {
          "output_type": "stream",
          "name": "stderr",
          "text": [
            "[debug] Invoking http downloader on \"https://rr4---sn-un57sn7y.googlevideo.com/videoplayback?expire=1743130274&ei=QrrlZ-ObM4qVvcAPjrPrqQY&ip=34.80.168.138&id=o-ABVoIG84QDOymGldR8rEvI3IHOWPVgeqfNFcoDn4V-v0&itag=137&aitags=134%2C136%2C137%2C160%2C243&source=youtube&requiressl=yes&xpc=EgVo2aDSNQ%3D%3D&met=1743108674%2C&mh=XO&mm=31%2C26&mn=sn-un57sn7y%2Csn-a5meknzr&ms=au%2Conr&mv=u&mvi=4&pl=27&rms=au%2Cau&bui=AccgBcOwfAxPd4gZc0mtZyrR80oXy31EnuIdp4OTf0GoePjcJ5Z7UYXJkZdEtjjoAPN_vSD_wNbFU6hK&vprv=1&svpuc=1&mime=video%2Fmp4&ns=1jDWX3b31ISdlVVKa_BK07UQ&rqh=1&gir=yes&clen=3469441&dur=91.880&lmt=1688275898301736&mt=1743106640&fvip=2&keepalive=yes&lmw=1&fexp=51348729&c=TVHTML5&sefc=1&txp=2216224&n=gu8Qsui-U5S1IA&sparams=expire%2Cei%2Cip%2Cid%2Caitags%2Csource%2Crequiressl%2Cxpc%2Cbui%2Cvprv%2Csvpuc%2Cmime%2Cns%2Crqh%2Cgir%2Cclen%2Cdur%2Clmt&sig=AJfQdSswRQIhAOUbd3TlesMtms4J2RkUb-GKPUE2jgzubccRtN1nfb3nAiAvtb29E0AmOgGcuYuYKv4I8l-VS8arb85JtTiZl3L2Gw%3D%3D&lsparams=met%2Cmh%2Cmm%2Cmn%2Cms%2Cmv%2Cmvi%2Cpl%2Crms&lsig=AFVRHeAwRgIhAO7pL0Gtx80jQUnDg4Y1766YOcE1SdwL-joOOg-KB2YQAiEA6XEnSiTmHVUTCfyxEEHIrUuJe5-qz3mO_vsGFt78GG8%3D\"\n"
          ]
        },
        {
          "output_type": "stream",
          "name": "stdout",
          "text": [
            "[download] Destination: ./AWS Marketplace： Private Marketplace.f137.mp4\n",
            "[download] 100% of    3.31MiB in 00:00:00 at 5.21MiB/s   \n"
          ]
        },
        {
          "output_type": "stream",
          "name": "stderr",
          "text": [
            "[debug] Invoking http downloader on \"https://rr4---sn-un57sn7y.googlevideo.com/videoplayback?expire=1743130274&ei=QrrlZ-ObM4qVvcAPjrPrqQY&ip=34.80.168.138&id=o-ABVoIG84QDOymGldR8rEvI3IHOWPVgeqfNFcoDn4V-v0&itag=140&source=youtube&requiressl=yes&xpc=EgVo2aDSNQ%3D%3D&met=1743108674%2C&mh=XO&mm=31%2C26&mn=sn-un57sn7y%2Csn-a5meknzr&ms=au%2Conr&mv=u&mvi=4&pl=27&rms=au%2Cau&bui=AccgBcOwfAxPd4gZc0mtZyrR80oXy31EnuIdp4OTf0GoePjcJ5Z7UYXJkZdEtjjoAPN_vSD_wNbFU6hK&vprv=1&svpuc=1&mime=audio%2Fmp4&ns=1jDWX3b31ISdlVVKa_BK07UQ&rqh=1&gir=yes&clen=1488504&dur=91.927&lmt=1688275893811067&mt=1743106640&fvip=2&keepalive=yes&lmw=1&fexp=51348729&c=TVHTML5&sefc=1&txp=2211224&n=gu8Qsui-U5S1IA&sparams=expire%2Cei%2Cip%2Cid%2Citag%2Csource%2Crequiressl%2Cxpc%2Cbui%2Cvprv%2Csvpuc%2Cmime%2Cns%2Crqh%2Cgir%2Cclen%2Cdur%2Clmt&sig=AJfQdSswRQIgJ3flJ1uCozV_2HqOZnrKaeLEpAzmeXoGQoNnZYXWpUcCIQDuZ7sobLK95OqINvoRpjP-IT-dxEYyJhLTPKWNppQk8g%3D%3D&lsparams=met%2Cmh%2Cmm%2Cmn%2Cms%2Cmv%2Cmvi%2Cpl%2Crms&lsig=AFVRHeAwRgIhAO7pL0Gtx80jQUnDg4Y1766YOcE1SdwL-joOOg-KB2YQAiEA6XEnSiTmHVUTCfyxEEHIrUuJe5-qz3mO_vsGFt78GG8%3D\"\n"
          ]
        },
        {
          "output_type": "stream",
          "name": "stdout",
          "text": [
            "[download] Destination: ./AWS Marketplace： Private Marketplace.f140.m4a\n",
            "[download] 100% of    1.42MiB in 00:00:00 at 2.45MiB/s   \n",
            "[Merger] Merging formats into \"./AWS Marketplace： Private Marketplace.mp4\"\n"
          ]
        },
        {
          "output_type": "stream",
          "name": "stderr",
          "text": [
            "[debug] ffmpeg command line: ffmpeg -y -loglevel repeat+info -i 'file:./AWS Marketplace： Private Marketplace.f137.mp4' -i 'file:./AWS Marketplace： Private Marketplace.f140.m4a' -c copy -map 0:v:0 -map 1:a:0 -movflags +faststart 'file:./AWS Marketplace： Private Marketplace.temp.mp4'\n"
          ]
        },
        {
          "output_type": "stream",
          "name": "stdout",
          "text": [
            "Deleting original file ./AWS Marketplace： Private Marketplace.f137.mp4 (pass -k to keep)\n",
            "Deleting original file ./AWS Marketplace： Private Marketplace.f140.m4a (pass -k to keep)\n",
            "[VideoConvertor] Not converting media file \"./AWS Marketplace： Private Marketplace.mp4\"; already is in target format mp4\n",
            "Download completed! Saved at: ./AWS Marketplace: Private Marketplace.mp4\n"
          ]
        },
        {
          "output_type": "execute_result",
          "data": {
            "text/plain": [
              "'./AWS Marketplace: Private Marketplace.mp4'"
            ],
            "application/vnd.google.colaboratory.intrinsic+json": {
              "type": "string"
            }
          },
          "metadata": {},
          "execution_count": 35
        }
      ]
    },
    {
      "cell_type": "code",
      "source": [],
      "metadata": {
        "id": "bckkQnt4W_yg"
      },
      "execution_count": null,
      "outputs": []
    }
  ]
}